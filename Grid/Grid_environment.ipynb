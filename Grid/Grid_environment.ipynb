{
 "cells": [
  {
   "cell_type": "code",
   "execution_count": 1,
   "metadata": {},
   "outputs": [
    {
     "name": "stdout",
     "output_type": "stream",
     "text": [
      "pygame 1.9.6\n",
      "Hello from the pygame community. https://www.pygame.org/contribute.html\n",
      "Grid size:  (10, 10)\n",
      "Start state:  (8, 3)\n",
      "[[-1. -1. -1. -1. -1. -1. -1. -1. -1. -1.]\n",
      " [-1. -1. -1. -1. -1. -1. -1. -1. -1. -1.]\n",
      " [-1. -1. -1. -1. -1. -1. -1. -1. -1. -1.]\n",
      " [-1. -1. -1. -1. -1. -1. -1. -1. -1. -1.]\n",
      " [-1. -1. -1. -1. -1. -1. -1. -1. -1. -1.]\n",
      " [-1. -1. -1. -1. -1. -1. -1. -1. -1. -1.]\n",
      " [-1. -1. -1. -1. -1. -1. -1. -1. -1. -1.]\n",
      " [-1. -1. -1. -1. -1. -1. -1. -1. -1. -1.]\n",
      " [-1. -1. -1. -1. -1. -1. -1. -1. -1. -1.]\n",
      " [-1. -1. -1. -1. -1. -1. -1. -1. -1. 50.]]\n"
     ]
    }
   ],
   "source": [
    "import numpy as np\n",
    "import random\n",
    "import pygame\n",
    "\n",
    "# (y,x)\n",
    "grid_x = 10\n",
    "grid_y = 10\n",
    "\n",
    "y_bound = grid_y - 1\n",
    "x_bound = grid_x - 1\n",
    "\n",
    "grid = np.ones((grid_y, grid_x))\n",
    "grid = np.negative(grid)\n",
    "\n",
    "terminal_state = (9,9)\n",
    "grid[terminal_state[0]][terminal_state[1]] = 50\n",
    "\n",
    "start_y = np.random.randint(low=0, high=grid_y)\n",
    "start_x = np.random.randint(low=0, high=grid_x)\n",
    "current_state = (start_y, start_x)\n",
    "\n",
    "\n",
    "print(\"Grid size: \", grid.shape)\n",
    "print(\"Start state: \", current_state)\n",
    "print(grid)"
   ]
  },
  {
   "cell_type": "markdown",
   "metadata": {},
   "source": [
    "# Movement Code of the Environment"
   ]
  },
  {
   "cell_type": "code",
   "execution_count": 2,
   "metadata": {},
   "outputs": [],
   "source": [
    "def move(state,action):\n",
    "    # (y,x)\n",
    "    switch = {\n",
    "        0: up,\n",
    "        1: right,\n",
    "        2: down,\n",
    "        3: left,\n",
    "        4: pickup\n",
    "    }\n",
    "\n",
    "    func = switch.get(action, lambda: \"Invalid action\")\n",
    "    new_state = func(state)\n",
    "    return new_state\n",
    "\n",
    "def valid_move(state):\n",
    "    if state[0] > y_bound:\n",
    "        state = (state[0]-1, state[1])\n",
    "    elif state[0] < 0:\n",
    "        state = (state[0]+1, state[1])\n",
    "        \n",
    "    if state[1] > x_bound:\n",
    "        state = (state[0], state[1] - 1)\n",
    "    elif state[1] < 0:\n",
    "        state = (state[0], state[1] + 1)\n",
    "    \n",
    "    return state\n",
    "    \n",
    "def up(state):\n",
    "    new_state = (state[0] - 1, state[1])\n",
    "    new_state = valid_move(new_state)\n",
    "    return new_state\n",
    "\n",
    "def right(state):\n",
    "    new_state = (state[0], state[1] + 1)\n",
    "    new_state = valid_move(new_state)\n",
    "    return new_state\n",
    "    \n",
    "def down(state):\n",
    "    new_state = (state[0] + 1, state[1])\n",
    "    new_state = valid_move(new_state)\n",
    "    return new_state\n",
    "    \n",
    "def left(state):\n",
    "    new_state = (state[0], state[1] - 1)\n",
    "    new_state = valid_move(new_state)\n",
    "    return new_state\n",
    "    \n",
    "def pickup(state):\n",
    "    return state"
   ]
  },
  {
   "cell_type": "markdown",
   "metadata": {},
   "source": [
    "# Actual transition of the environment based on action"
   ]
  },
  {
   "cell_type": "code",
   "execution_count": 3,
   "metadata": {},
   "outputs": [],
   "source": [
    "def step(state, action):\n",
    "    \n",
    "    state_prime = move(state,action)\n",
    "    \n",
    "    reward = grid[state_prime[0]][state_prime[1]]\n",
    "    \n",
    "    if state_prime == terminal_state:\n",
    "        done = True\n",
    "    else:\n",
    "        done = False\n",
    "    \n",
    "    return state_prime, reward, done"
   ]
  },
  {
   "cell_type": "markdown",
   "metadata": {},
   "source": [
    "# Best action selection function"
   ]
  },
  {
   "cell_type": "code",
   "execution_count": 4,
   "metadata": {},
   "outputs": [],
   "source": [
    "def best_action_value(state):\n",
    "    best_action = None\n",
    "    best_value  = float('-inf')\n",
    "\n",
    "    for action in ACTION_SPACE:\n",
    "        state_prime, reward, done = step(state, action) \n",
    "        print(state_prime, \" - \", reward, \" - \",  done)\n",
    "        v = reward + gamma * V[state_prime]    \n",
    "        \n",
    "        if v > best_value:\n",
    "            best_value = v\n",
    "            best_action = action\n",
    "    return best_action"
   ]
  },
  {
   "cell_type": "code",
   "execution_count": 25,
   "metadata": {},
   "outputs": [
    {
     "name": "stdout",
     "output_type": "stream",
     "text": [
      "Action Space:\n",
      "[0, 1, 2, 3]\n",
      "['Up', 'Right', 'Down', 'Left', 'Pickup']\n",
      "State Space:\n",
      "[[0. 0. 0. 0. 0. 0. 0. 0. 0. 0.]\n",
      " [0. 0. 0. 0. 0. 0. 0. 0. 0. 0.]\n",
      " [0. 0. 0. 0. 0. 0. 0. 0. 0. 0.]\n",
      " [0. 0. 0. 0. 0. 0. 0. 0. 0. 0.]\n",
      " [0. 0. 0. 0. 0. 0. 0. 0. 0. 0.]\n",
      " [0. 0. 0. 0. 0. 0. 0. 0. 0. 0.]\n",
      " [0. 0. 0. 0. 0. 0. 0. 0. 0. 0.]\n",
      " [0. 0. 0. 0. 0. 0. 0. 0. 0. 0.]\n",
      " [0. 0. 0. 0. 0. 0. 0. 0. 0. 0.]\n",
      " [0. 0. 0. 0. 0. 0. 0. 0. 0. 0.]]\n",
      "[[-1. -1. -1. -1. -1. -1. -1. -1. -1. -1.]\n",
      " [-1. -1. -1. -1. -1. -1. -1. -1. -1. -1.]\n",
      " [-1. -1. -1. -1. -1. -1. -1. -1. -1. -1.]\n",
      " [-1. -1. -1. -1. -1. -1. -1. -1. -1. -1.]\n",
      " [-1. -1. -1. -1. -1. -1. -1. -1. -1. -1.]\n",
      " [-1. -1. -1. -1. -1. -1. -1. -1. -1. -1.]\n",
      " [-1. -1. -1. -1. -1. -1. -1. -1. -1. -1.]\n",
      " [-1. -1. -1. -1. -1. -1. -1. -1. -1. -1.]\n",
      " [-1. -1. -1. -1. -1. -1. -1. -1. -1. -1.]\n",
      " [-1. -1. -1. -1. -1. -1. -1. -1. -1. 50.]]\n"
     ]
    }
   ],
   "source": [
    "ACTION_SPACE = list(range(0,4))\n",
    "print(\"Action Space:\")\n",
    "print(ACTION_SPACE)\n",
    "print([\"Up\", \"Right\", \"Down\", \"Left\", \"Pickup\"])\n",
    "\n",
    "\n",
    "STATE_SPACE = np.zeros((grid_y, grid_x))\n",
    "print(\"State Space:\")\n",
    "print(STATE_SPACE)\n",
    "\n",
    "Reward = grid\n",
    "V = np.zeros((grid_y, grid_x)) \n",
    "Pi = np.zeros((grid_y, grid_x))  \n",
    "gamma = 0.9 \n",
    "significant_improvement = 0.01 \n",
    "print(Reward)"
   ]
  },
  {
   "cell_type": "code",
   "execution_count": 6,
   "metadata": {},
   "outputs": [],
   "source": [
    "#for iteration in range(100):\n",
    "#    for y in range(height):\n",
    "#        for x in range(width): \n",
    "#            s = (y, x)\n",
    "#            print(\"Position: \", s)\n",
    "#            old_v = V[s]\n",
    "#            action = best_action_value(s) \n",
    "#            print(\"Best action: \", action)\n",
    "#            s_new, rew, done = step(s,action) \n",
    "#            V[s] = rew + gamma * V[s_new] \n",
    "#            Pi[s] = action\n",
    "            \n",
    "#print(V)\n",
    "#print(Pi)"
   ]
  },
  {
   "cell_type": "code",
   "execution_count": 7,
   "metadata": {},
   "outputs": [],
   "source": [
    "#temp = best_action_value(current_state)"
   ]
  },
  {
   "cell_type": "code",
   "execution_count": 24,
   "metadata": {},
   "outputs": [
    {
     "name": "stdout",
     "output_type": "stream",
     "text": [
      "Starting position:  (4, 7)\n",
      "Iteration 1 - Reward: -1.0\n",
      "Iteration 2 - Reward: -2.0\n",
      "Iteration 3 - Reward: -3.0\n",
      "Iteration 4 - Reward: -4.0\n",
      "Iteration 5 - Reward: -5.0\n",
      "Iteration 6 - Reward: -6.0\n",
      "Iteration 7 - Reward: -7.0\n",
      "Iteration 8 - Reward: -8.0\n",
      "Ending position:  (4, 5)\n"
     ]
    }
   ],
   "source": [
    "done = False\n",
    "reward_total = 0\n",
    "iteration = 0\n",
    "\n",
    "\n",
    "BLACK = (0, 0, 0)\n",
    "WHITE = (255, 255, 255)\n",
    "GREEN = (0, 255, 0)\n",
    "RED = (255, 0, 0)\n",
    " \n",
    "pygame.init()\n",
    "\n",
    "CONSTANT_SIZE = 50\n",
    "height = grid.shape[0]\n",
    "width = grid.shape[1]\n",
    "\n",
    "size_y = (CONSTANT_SIZE * height) + height + 1\n",
    "size_x = (CONSTANT_SIZE * width) + width + 1\n",
    "screen_size = (size_y, size_x)\n",
    "\n",
    "screen = pygame.display.set_mode(screen_size)\n",
    "\n",
    "pygame.display.set_caption(\"Badworld\")\n",
    " \n",
    "session = True\n",
    "\n",
    "clock = pygame.time.Clock()\n",
    "\n",
    "print(\"Starting position: \", current_state)\n",
    "\n",
    "while session:\n",
    "    \n",
    "    for event in pygame.event.get():\n",
    "        if event.type == pygame.QUIT:\n",
    "            session = False\n",
    "    \n",
    "    if done == True or iteration == 20:\n",
    "        #session = False\n",
    "        break\n",
    "    else:\n",
    "        iteration += 1\n",
    " \n",
    "    screen.fill(BLACK)\n",
    "    \n",
    "    for y in range(height):\n",
    "        for x in range(width):                \n",
    "            if y == current_state[0] and x == current_state[1]:\n",
    "                colour = GREEN\n",
    "            elif grid[y][x] == 50:\n",
    "                colour = RED\n",
    "            else:\n",
    "                colour = WHITE\n",
    "            \n",
    "            rect_pos_x = x*(CONSTANT_SIZE+1)+1\n",
    "            rect_pos_y = y*(CONSTANT_SIZE+1)+1\n",
    "            rect = pygame.Rect(rect_pos_x, rect_pos_y , CONSTANT_SIZE, CONSTANT_SIZE)\n",
    "            pygame.draw.rect(screen, colour, rect)    \n",
    "            \n",
    "    \n",
    "    action = random.choice(ACTION_SPACE)\n",
    "    obs, reward, done = step(current_state,action)\n",
    "    current_state = obs\n",
    "    reward_total = reward_total + reward\n",
    "    \n",
    "    print(\"Iteration\", iteration, \"- Reward:\" ,reward_total)\n",
    "    \n",
    "    pygame.display.flip()\n",
    "    pygame.time.wait(250)\n",
    "    clock.tick(60)\n",
    "\n",
    "pygame.quit()\n",
    "\n",
    "print(\"Ending position: \", current_state)"
   ]
  },
  {
   "cell_type": "code",
   "execution_count": 9,
   "metadata": {},
   "outputs": [],
   "source": [
    "pygame.quit()"
   ]
  },
  {
   "cell_type": "code",
   "execution_count": 10,
   "metadata": {},
   "outputs": [],
   "source": [
    "#texting dreams\n",
    "\n",
    "#font = pygame.font.Font('freesansbold.ttf', 10) \n",
    "#draw_text = True\n",
    "\n",
    "#if draw_text == True:\n",
    "#        text_pos_x = current_state[1]*(CONSTANT_SIZE+1)+1\n",
    "#        text_pos_y = current_state[0]*(CONSTANT_SIZE+1)+1\n",
    "#        rect = pygame.Rect(text_pos_x, text_pos_y , CONSTANT_SIZE, CONSTANT_SIZE)\n",
    "#        text_word = \"(\" +  str(current_state[0]) + \"; \" + str(current_state[1]) + \")\"\n",
    "#        text_pos_x = current_state[1]*(CONSTANT_SIZE+1)+1\n",
    "#        text_pos_y = current_state[0]*(CONSTANT_SIZE+1)+1\n",
    "#        text = font.render(text_word, True, BLACK, WHITE) \n",
    "#        textRect = text.get_rect()  \n",
    "#        textRect.center = (text_pos_x+(CONSTANT_SIZE/2), text_pos_y+(CONSTANT_SIZE/2)) \n",
    "#        screen.blit(text, textRect)"
   ]
  }
 ],
 "metadata": {
  "kernelspec": {
   "display_name": "Python 3",
   "language": "python",
   "name": "python3"
  },
  "language_info": {
   "codemirror_mode": {
    "name": "ipython",
    "version": 3
   },
   "file_extension": ".py",
   "mimetype": "text/x-python",
   "name": "python",
   "nbconvert_exporter": "python",
   "pygments_lexer": "ipython3",
   "version": "3.7.3"
  }
 },
 "nbformat": 4,
 "nbformat_minor": 2
}
